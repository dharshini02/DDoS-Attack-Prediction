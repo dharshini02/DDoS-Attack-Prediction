{
 "cells": [
  {
   "cell_type": "code",
   "execution_count": 37,
   "id": "172c7317",
   "metadata": {},
   "outputs": [],
   "source": [
    "import pandas as pd\n",
    "import numpy as np\n",
    "import matplotlib.pyplot as plt\n",
    "import seaborn as sb\n",
    "import plotly as py"
   ]
  },
  {
   "cell_type": "code",
   "execution_count": 38,
   "id": "598dde84",
   "metadata": {},
   "outputs": [],
   "source": [
    "df_original = pd.read_csv('basic_cleaned.csv')\n",
    "df = df_original.copy()\n",
    "\n",
    "# It is a good practise to make a copy of dataset so we generated a copy for quick fixes later if necessary"
   ]
  },
  {
   "cell_type": "code",
   "execution_count": 39,
   "id": "cf70c5c2",
   "metadata": {},
   "outputs": [
    {
     "data": {
      "text/plain": [
       "(1927085, 41)"
      ]
     },
     "execution_count": 39,
     "metadata": {},
     "output_type": "execute_result"
    }
   ],
   "source": [
    "df.shape\n",
    "\n",
    "# Shape lets us know about the number of rows and columns available for our dataset"
   ]
  },
  {
   "cell_type": "code",
   "execution_count": 40,
   "id": "6116c3b6",
   "metadata": {},
   "outputs": [
    {
     "data": {
      "text/plain": [
       "Index(['Unnamed: 0', 'Unnamed: 0.1', 'proto', 'proto_number', 'saddr', 'sport',\n",
       "       'daddr', 'dport', 'pkts', 'bytes', 'state', 'dur', 'average_dur',\n",
       "       'stddev_dur', 'total_dur', 'min_dur', 'max_dur', 'spkts', 'dpkts',\n",
       "       'sbytes', 'dbytes', 'rate', 'srate', 'drate', 'TnBPSrcIP', 'TnBPDstIP',\n",
       "       'TnP_PSrcIP', 'TnP_PDstIP', 'TnP_PerProto', 'TnP_Per_Dport',\n",
       "       'AR_P_Proto_P_SrcIP', 'AR_P_Proto_P_DstIP', 'N_IN_Conn_P_DstIP',\n",
       "       'N_IN_Conn_P_SrcIP', 'AR_P_Proto_P_Sport', 'AR_P_Proto_P_Dport',\n",
       "       'Pkts_P_State_P_Protocol_P_DestIP', 'Pkts_P_State_P_Protocol_P_SrcIP',\n",
       "       'attack', 'category', 'subcategory'],\n",
       "      dtype='object')"
      ]
     },
     "execution_count": 40,
     "metadata": {},
     "output_type": "execute_result"
    }
   ],
   "source": [
    "df.columns\n",
    "\n",
    "# Shows all columns available"
   ]
  },
  {
   "cell_type": "code",
   "execution_count": 41,
   "id": "c875bd85",
   "metadata": {},
   "outputs": [],
   "source": [
    "df.drop(['Unnamed: 0'],axis=1,inplace=True)\n",
    "\n",
    "# we drop 1st column here as it is just ID and not required"
   ]
  },
  {
   "cell_type": "code",
   "execution_count": 42,
   "id": "1ceae586",
   "metadata": {},
   "outputs": [],
   "source": [
    "df_attacked = df[ (df['category'] =='DDoS') ]\n",
    "\n",
    "# we are taking all the malicious packets data into a data frame called df_attacked"
   ]
  },
  {
   "cell_type": "code",
   "execution_count": 43,
   "id": "50cd0952",
   "metadata": {},
   "outputs": [],
   "source": [
    "df_normal = df[ (df['category'] =='Normal') ]\n",
    "\n",
    "# we are taking all the normal packets data into a data frame called df_normal"
   ]
  },
  {
   "cell_type": "code",
   "execution_count": 44,
   "id": "5fa22469",
   "metadata": {},
   "outputs": [],
   "source": [
    "def gen_bar(column,num_observ,df_type):\n",
    "    base_color = sb.color_palette()[0]\n",
    "    bot_order = df_type[column].value_counts()[:num_observ].index\n",
    "    sb.countplot(data = df_type, y = column, color = base_color, order = bot_order)\n",
    "    \n",
    "# This is a function that is used to plot a bar graph by taking three parameters:\n",
    "  # 1. columns: Tells about the name of the column needed.\n",
    "  # 2. num_observ: It takes the number of observations for which graph needs to be plotted.\n",
    "  # 3. df_type: This parameter takes the datafram used for analysis."
   ]
  },
  {
   "cell_type": "code",
   "execution_count": 45,
   "id": "e7095f15",
   "metadata": {},
   "outputs": [],
   "source": [
    "def gen_pie(column,num_observ,df_type):\n",
    "    sorted_counts = df_type[column].value_counts()[:num_observ]\n",
    "    plt.pie(sorted_counts, labels = sorted_counts.index, startangle = 90, autopct='%1.0f%%', pctdistance=1.2, labeldistance=0.7,counterclock = False)\n",
    "    plt.axis('square')\n",
    "# This is a function that is used to plot a pie chart by taking three parameters:\n",
    "  # 1. columns: Tells about the name of the column needed.\n",
    "  # 2. num_observ: It takes the number of observations for which graph needs to be plotted.\n",
    "  # 3. df_type: This parameter takes the datafram used for analysis."
   ]
  },
  {
   "cell_type": "code",
   "execution_count": 46,
   "id": "ed443598",
   "metadata": {},
   "outputs": [
    {
     "data": {
      "text/plain": [
       "array(['tcp', 'arp', 'udp', 'ipv6-icmp'], dtype=object)"
      ]
     },
     "execution_count": 46,
     "metadata": {},
     "output_type": "execute_result"
    }
   ],
   "source": [
    "df.proto.unique()\n",
    "\n",
    "# unique method is used to get the unique values available for that particular column."
   ]
  },
  {
   "cell_type": "code",
   "execution_count": 47,
   "id": "68ef768a",
   "metadata": {},
   "outputs": [
    {
     "data": {
      "text/plain": [
       "tcp          978397\n",
       "udp          948598\n",
       "arp              82\n",
       "ipv6-icmp         8\n",
       "Name: proto, dtype: int64"
      ]
     },
     "execution_count": 47,
     "metadata": {},
     "output_type": "execute_result"
    }
   ],
   "source": [
    "df.proto.value_counts()\n",
    "\n",
    "# value count tells us about the number of observations per unique entities in descending order."
   ]
  },
  {
   "cell_type": "code",
   "execution_count": 48,
   "id": "c6f0fe6f",
   "metadata": {},
   "outputs": [
    {
     "data": {
      "image/png": "[encoded data removed]",
      "text/plain": [
       "<Figure size 432x288 with 1 Axes>"
      ]
     },
     "metadata": {
      "needs_background": "light"
     },
     "output_type": "display_data"
    }
   ],
   "source": [
    "gen_bar('saddr',4,df_attacked)\n",
    "\n",
    "# we called the function to generate the bar graph for top 4 values of senders address in malicious dataset."
   ]
  },
  {
   "cell_type": "code",
   "execution_count": 49,
   "id": "4ad13859",
   "metadata": {},
   "outputs": [
    {
     "data": {
      "image/png": "[encoded data removed]",
      "text/plain": [
       "<Figure size 432x288 with 1 Axes>"
      ]
     },
     "metadata": {
      "needs_background": "light"
     },
     "output_type": "display_data"
    }
   ],
   "source": [
    "gen_bar('saddr',4,df_normal)\n",
    "\n",
    "# we called the function to generate the bar graph for top 4 values of senders address in normal dataset."
   ]
  },
  {
   "cell_type": "code",
   "execution_count": 50,
   "id": "6a308861",
   "metadata": {},
   "outputs": [
    {
     "data": {
      "text/plain": [
       "192.168.100.3      1923162\n",
       "192.168.100.147       1336\n",
       "192.168.100.150       1313\n",
       "192.168.100.149        579\n",
       "Name: daddr, dtype: int64"
      ]
     },
     "execution_count": 50,
     "metadata": {},
     "output_type": "execute_result"
    }
   ],
   "source": [
    "df.daddr.value_counts().iloc[:4]\n",
    "\n",
    "# getting top 4 counts from destination address."
   ]
  },
  {
   "cell_type": "code",
   "execution_count": 51,
   "id": "6cf2dedb",
   "metadata": {},
   "outputs": [
    {
     "data": {
      "text/plain": [
       " 80       3485\n",
       "-1          35\n",
       " 42458      31\n",
       " 42472      31\n",
       " 42470      31\n",
       "          ... \n",
       " 26843      27\n",
       " 26842      27\n",
       " 26837      27\n",
       " 26836      27\n",
       " 26848      27\n",
       "Name: sport, Length: 65537, dtype: int64"
      ]
     },
     "execution_count": 51,
     "metadata": {},
     "output_type": "execute_result"
    }
   ],
   "source": [
    "df_attacked.sport.value_counts()\n",
    "\n",
    "# getting the count of values of the senders port number."
   ]
  },
  {
   "cell_type": "code",
   "execution_count": 52,
   "id": "4242a2d3",
   "metadata": {},
   "outputs": [
    {
     "data": {
      "text/plain": [
       " 80       1923117\n",
       "-1             35\n",
       " 6404           2\n",
       " 6396           2\n",
       " 6393           2\n",
       "           ...   \n",
       " 13066          1\n",
       " 13067          1\n",
       " 13070          1\n",
       " 13071          1\n",
       " 26821          1\n",
       "Name: dport, Length: 3409, dtype: int64"
      ]
     },
     "execution_count": 52,
     "metadata": {},
     "output_type": "execute_result"
    }
   ],
   "source": [
    "df_attacked.dport.value_counts()\n",
    "\n",
    "# getting the count of values of the destination port number."
   ]
  },
  {
   "cell_type": "code",
   "execution_count": 53,
   "id": "216cd666",
   "metadata": {},
   "outputs": [
    {
     "data": {
      "text/plain": [
       "count   1926608.00000\n",
       "mean          7.33000\n",
       "std           3.71533\n",
       "min           1.00000\n",
       "25%           5.00000\n",
       "50%           7.00000\n",
       "75%          10.00000\n",
       "max          20.00000\n",
       "Name: pkts, dtype: float64"
      ]
     },
     "execution_count": 53,
     "metadata": {},
     "output_type": "execute_result"
    }
   ],
   "source": [
    "pd.set_option('display.float_format', lambda x: '%.5f' % x)\n",
    "df_attacked.pkts.describe()\n",
    "\n",
    "# getting a statistics of malicious packet count in each transaction"
   ]
  },
  {
   "cell_type": "code",
   "execution_count": 54,
   "id": "3dbfabc0",
   "metadata": {},
   "outputs": [
    {
     "data": {
      "image/png": "[encoded data removed]",
      "text/plain": [
       "<Figure size 432x288 with 1 Axes>"
      ]
     },
     "metadata": {},
     "output_type": "display_data"
    }
   ],
   "source": [
    "gen_pie('pkts',8,df_attacked)\n",
    "\n",
    "# generating a pie chart for attack dataset about the packets per transcition number."
   ]
  },
  {
   "cell_type": "code",
   "execution_count": 55,
   "id": "79cae1d7",
   "metadata": {},
   "outputs": [
    {
     "data": {
      "text/plain": [
       "count     477.00000\n",
       "mean     2366.16143\n",
       "std      9847.58736\n",
       "min         1.00000\n",
       "25%         2.00000\n",
       "50%         2.00000\n",
       "75%         2.00000\n",
       "max     70057.00000\n",
       "Name: pkts, dtype: float64"
      ]
     },
     "execution_count": 55,
     "metadata": {},
     "output_type": "execute_result"
    }
   ],
   "source": [
    "df_normal.pkts.describe()\n",
    "\n",
    "# getting a statistics of normal packet count in each transaction"
   ]
  },
  {
   "cell_type": "code",
   "execution_count": 56,
   "id": "5efc32d2",
   "metadata": {},
   "outputs": [
    {
     "data": {
      "image/png": "[encoded data removed]",
      "text/plain": [
       "<Figure size 432x288 with 1 Axes>"
      ]
     },
     "metadata": {},
     "output_type": "display_data"
    }
   ],
   "source": [
    "gen_pie('pkts',4,df_normal)\n",
    "\n",
    "# generating a pie chart for normal dataset about the packets per transcition number."
   ]
  },
  {
   "cell_type": "code",
   "execution_count": 57,
   "id": "27f389e2",
   "metadata": {},
   "outputs": [
    {
     "data": {
      "text/plain": [
       "count   1926608.00000\n",
       "mean        615.24861\n",
       "std         227.91679\n",
       "min          60.00000\n",
       "25%         420.00000\n",
       "50%         616.00000\n",
       "75%         780.00000\n",
       "max        6322.00000\n",
       "Name: bytes, dtype: float64"
      ]
     },
     "execution_count": 57,
     "metadata": {},
     "output_type": "execute_result"
    }
   ],
   "source": [
    "df_attacked.bytes.describe()\n",
    "\n",
    "# getting a statistics of malicious bytes in each transmission"
   ]
  },
  {
   "cell_type": "code",
   "execution_count": 58,
   "id": "a9618b4f",
   "metadata": {},
   "outputs": [
    {
     "data": {
      "image/png": "[encoded data removed]",
      "text/plain": [
       "<Figure size 432x288 with 1 Axes>"
      ]
     },
     "metadata": {},
     "output_type": "display_data"
    }
   ],
   "source": [
    "gen_pie('bytes',8,df_attacked)\n",
    "\n",
    "# generating a pie chart for attack dataset for bytes involved in transmission of the packet."
   ]
  },
  {
   "cell_type": "code",
   "execution_count": 59,
   "id": "69729767",
   "metadata": {},
   "outputs": [
    {
     "data": {
      "text/plain": [
       "count        477.00000\n",
       "mean     2064511.46751\n",
       "std      9636728.40103\n",
       "min           60.00000\n",
       "25%          172.00000\n",
       "50%          183.00000\n",
       "75%          891.00000\n",
       "max     71833345.00000\n",
       "Name: bytes, dtype: float64"
      ]
     },
     "execution_count": 59,
     "metadata": {},
     "output_type": "execute_result"
    }
   ],
   "source": [
    "df_normal.bytes.describe()\n",
    "\n",
    "# getting a statistics of normal bytes in each transmission"
   ]
  },
  {
   "cell_type": "code",
   "execution_count": 60,
   "id": "f0bd2d27",
   "metadata": {},
   "outputs": [
    {
     "data": {
      "image/png": "[encoded data removed]",
      "text/plain": [
       "<Figure size 432x288 with 1 Axes>"
      ]
     },
     "metadata": {},
     "output_type": "display_data"
    }
   ],
   "source": [
    "gen_pie('bytes',5,df_normal)\n",
    "\n",
    "# generating a pie chart for normal dataset for bytes involved in transmission of the packet"
   ]
  },
  {
   "cell_type": "code",
   "execution_count": 61,
   "id": "2f40d92a",
   "metadata": {},
   "outputs": [
    {
     "data": {
      "text/plain": [
       "INT    948382\n",
       "REQ    538593\n",
       "RST    437281\n",
       "ACC      2476\n",
       "CON       329\n",
       "FIN        16\n",
       "NRS         8\n",
       "Name: state, dtype: int64"
      ]
     },
     "execution_count": 61,
     "metadata": {},
     "output_type": "execute_result"
    }
   ],
   "source": [
    "sorted_counts = df['state'].value_counts()\n",
    "sorted_counts\n",
    "\n",
    "# Sorting the state of transaction"
   ]
  },
  {
   "cell_type": "code",
   "execution_count": 62,
   "id": "002bd082",
   "metadata": {},
   "outputs": [
    {
     "data": {
      "image/png": "[encoded data removed]",
      "text/plain": [
       "<Figure size 432x288 with 1 Axes>"
      ]
     },
     "metadata": {},
     "output_type": "display_data"
    }
   ],
   "source": [
    "gen_pie('state',3,df_attacked)\n",
    "\n",
    "# generating pie chart for top 3 state value in malicious dataset"
   ]
  },
  {
   "cell_type": "code",
   "execution_count": 63,
   "id": "029bf32c",
   "metadata": {},
   "outputs": [
    {
     "data": {
      "text/plain": [
       "<AxesSubplot:>"
      ]
     },
     "execution_count": 63,
     "metadata": {},
     "output_type": "execute_result"
    },
    {
     "data": {
      "image/png": "[encoded data removed]",
      "text/plain": [
       "<Figure size 432x288 with 1 Axes>"
      ]
     },
     "metadata": {
      "needs_background": "light"
     },
     "output_type": "display_data"
    }
   ],
   "source": [
    "df['state'].value_counts().sort_index().plot.line()\n",
    "\n",
    "# getting a line plot about the states."
   ]
  },
  {
   "cell_type": "code",
   "execution_count": 64,
   "id": "dac9ddcb",
   "metadata": {},
   "outputs": [
    {
     "data": {
      "image/png": "[encoded data removed]",
      "text/plain": [
       "<Figure size 432x288 with 1 Axes>"
      ]
     },
     "metadata": {},
     "output_type": "display_data"
    }
   ],
   "source": [
    "gen_pie('state',3,df_normal)\n",
    "\n",
    "# generating pie chart for top 3 state value in normal dataset"
   ]
  },
  {
   "cell_type": "code",
   "execution_count": 65,
   "id": "60b042e5",
   "metadata": {},
   "outputs": [
    {
     "data": {
      "text/plain": [
       "<AxesSubplot:>"
      ]
     },
     "execution_count": 65,
     "metadata": {},
     "output_type": "execute_result"
    },
    {
     "data": {
      "image/png": "[encoded data removed]",
      "text/plain": [
       "<Figure size 432x288 with 1 Axes>"
      ]
     },
     "metadata": {
      "needs_background": "light"
     },
     "output_type": "display_data"
    }
   ],
   "source": [
    "df_normal['state'].value_counts().sort_index().plot.line()\n",
    "\n",
    "# getting a line plot about the states."
   ]
  },
  {
   "cell_type": "code",
   "execution_count": 66,
   "id": "f13809ce",
   "metadata": {},
   "outputs": [
    {
     "data": {
      "text/plain": [
       "count   1926608.00000\n",
       "mean         14.79853\n",
       "std           8.78071\n",
       "min           0.00000\n",
       "25%          12.12172\n",
       "50%          13.68447\n",
       "75%          14.54814\n",
       "max         113.55770\n",
       "Name: dur, dtype: float64"
      ]
     },
     "execution_count": 66,
     "metadata": {},
     "output_type": "execute_result"
    }
   ],
   "source": [
    "df_attacked.dur.describe()\n",
    "\n",
    "# statistics about duration of packet transfer of attack dataset"
   ]
  },
  {
   "cell_type": "code",
   "execution_count": 67,
   "id": "4a42f41c",
   "metadata": {},
   "outputs": [
    {
     "data": {
      "text/plain": [
       "0.00000     84237\n",
       "12.16235      182\n",
       "12.38465      169\n",
       "13.96231      167\n",
       "12.38396      166\n",
       "            ...  \n",
       "38.69258        1\n",
       "14.74405        1\n",
       "38.96214        1\n",
       "38.94388        1\n",
       "6.40642         1\n",
       "Name: dur, Length: 368548, dtype: int64"
      ]
     },
     "execution_count": 67,
     "metadata": {},
     "output_type": "execute_result"
    }
   ],
   "source": [
    "df_attacked.dur.value_counts()\n",
    "\n",
    "# value counts of duration of attacked packets"
   ]
  },
  {
   "cell_type": "code",
   "execution_count": 68,
   "id": "5d635b42",
   "metadata": {},
   "outputs": [
    {
     "data": {
      "text/plain": [
       "0.00000       80\n",
       "1685.70691     4\n",
       "0.16599        2\n",
       "0.00732        2\n",
       "1745.80786     2\n",
       "              ..\n",
       "981.24768      1\n",
       "2.50001        1\n",
       "61.45535       1\n",
       "1453.82812     1\n",
       "0.28051        1\n",
       "Name: dur, Length: 386, dtype: int64"
      ]
     },
     "execution_count": 68,
     "metadata": {},
     "output_type": "execute_result"
    }
   ],
   "source": [
    "df_normal.dur.value_counts()"
   ]
  },
  {
   "cell_type": "code",
   "execution_count": 69,
   "id": "d692a0a8",
   "metadata": {},
   "outputs": [
    {
     "data": {
      "text/plain": [
       "<AxesSubplot:ylabel='Frequency'>"
      ]
     },
     "execution_count": 69,
     "metadata": {},
     "output_type": "execute_result"
    },
    {
     "data": {
      "image/png": "[encoded data removed]",
      "text/plain": [
       "<Figure size 432x288 with 1 Axes>"
      ]
     },
     "metadata": {
      "needs_background": "light"
     },
     "output_type": "display_data"
    }
   ],
   "source": [
    "df_attacked['dur'].plot.hist()\n",
    "\n",
    "# plotting a histogram for attacked packet duration across the dataset"
   ]
  },
  {
   "cell_type": "code",
   "execution_count": 70,
   "id": "2b06406a",
   "metadata": {},
   "outputs": [
    {
     "data": {
      "text/plain": [
       "<AxesSubplot:ylabel='Frequency'>"
      ]
     },
     "execution_count": 70,
     "metadata": {},
     "output_type": "execute_result"
    },
    {
     "data": {
      "image/png": "[encoded data removed]",
      "text/plain": [
       "<Figure size 432x288 with 1 Axes>"
      ]
     },
     "metadata": {
      "needs_background": "light"
     },
     "output_type": "display_data"
    }
   ],
   "source": [
    "df_normal['dur'].plot.hist()\n",
    "\n",
    "# plotting a histogram for normal packet duration across the dataset"
   ]
  },
  {
   "cell_type": "code",
   "execution_count": 71,
   "id": "cd1db3bf",
   "metadata": {},
   "outputs": [
    {
     "data": {
      "text/plain": [
       "count   1926608.00000\n",
       "mean          2.54962\n",
       "std           1.40421\n",
       "min           0.00000\n",
       "25%           2.01624\n",
       "50%           2.75982\n",
       "75%           3.65986\n",
       "max           4.98188\n",
       "Name: average_dur, dtype: float64"
      ]
     },
     "execution_count": 71,
     "metadata": {},
     "output_type": "execute_result"
    }
   ],
   "source": [
    "df_attacked.average_dur.describe()"
   ]
  },
  {
   "cell_type": "code",
   "execution_count": 72,
   "id": "0f344830",
   "metadata": {},
   "outputs": [
    {
     "data": {
      "text/plain": [
       "<AxesSubplot:ylabel='average_dur'>"
      ]
     },
     "execution_count": 72,
     "metadata": {},
     "output_type": "execute_result"
    },
    {
     "data": {
      "image/png": "[encoded data removed]",
      "text/plain": [
       "<Figure size 432x288 with 1 Axes>"
      ]
     },
     "metadata": {
      "needs_background": "light"
     },
     "output_type": "display_data"
    }
   ],
   "source": [
    "sb.boxplot( y=df_attacked[\"average_dur\"] )\n",
    "\n",
    "# making box plot for attacked dataset average duration."
   ]
  },
  {
   "cell_type": "code",
   "execution_count": 73,
   "id": "703555ff",
   "metadata": {},
   "outputs": [
    {
     "data": {
      "text/plain": [
       "count   477.00000\n",
       "mean      0.49936\n",
       "std       1.33180\n",
       "min       0.00000\n",
       "25%       0.00000\n",
       "50%       0.00749\n",
       "75%       0.18034\n",
       "max       4.96714\n",
       "Name: average_dur, dtype: float64"
      ]
     },
     "execution_count": 73,
     "metadata": {},
     "output_type": "execute_result"
    }
   ],
   "source": [
    "df_normal.average_dur.describe()"
   ]
  },
  {
   "cell_type": "code",
   "execution_count": 74,
   "id": "c18efa11",
   "metadata": {},
   "outputs": [
    {
     "data": {
      "text/plain": [
       "<AxesSubplot:ylabel='average_dur'>"
      ]
     },
     "execution_count": 74,
     "metadata": {},
     "output_type": "execute_result"
    },
    {
     "data": {
      "image/png": "[encoded data removed]",
      "text/plain": [
       "<Figure size 432x288 with 1 Axes>"
      ]
     },
     "metadata": {
      "needs_background": "light"
     },
     "output_type": "display_data"
    }
   ],
   "source": [
    "sb.boxplot( y=df_normal[df_normal[\"average_dur\"] < 0.02].average_dur )\n",
    "\n",
    "# making box plot for normal dataset average duration."
   ]
  },
  {
   "cell_type": "code",
   "execution_count": 75,
   "id": "079e0c7d",
   "metadata": {},
   "outputs": [
    {
     "data": {
      "text/plain": [
       "count   1926608.00000\n",
       "mean          0.94536\n",
       "std           0.75180\n",
       "min           0.00000\n",
       "25%           0.12302\n",
       "50%           0.93764\n",
       "75%           1.69009\n",
       "max           2.49676\n",
       "Name: stddev_dur, dtype: float64"
      ]
     },
     "execution_count": 75,
     "metadata": {},
     "output_type": "execute_result"
    }
   ],
   "source": [
    "df_attacked.stddev_dur.describe()"
   ]
  },
  {
   "cell_type": "code",
   "execution_count": 76,
   "id": "69f74c66",
   "metadata": {},
   "outputs": [
    {
     "data": {
      "text/plain": [
       "0.00000    208507\n",
       "1.92082       204\n",
       "1.91372       174\n",
       "1.91140       152\n",
       "1.90994       152\n",
       "            ...  \n",
       "0.12413         1\n",
       "0.12830         1\n",
       "0.12462         1\n",
       "1.74749         1\n",
       "0.54413         1\n",
       "Name: stddev_dur, Length: 277406, dtype: int64"
      ]
     },
     "execution_count": 76,
     "metadata": {},
     "output_type": "execute_result"
    }
   ],
   "source": [
    "df_attacked.stddev_dur.value_counts()"
   ]
  },
  {
   "cell_type": "code",
   "execution_count": 77,
   "id": "92096f18",
   "metadata": {},
   "outputs": [
    {
     "data": {
      "text/plain": [
       "<AxesSubplot:ylabel='stddev_dur'>"
      ]
     },
     "execution_count": 77,
     "metadata": {},
     "output_type": "execute_result"
    },
    {
     "data": {
      "image/png": "[encoded data removed]",
      "text/plain": [
       "<Figure size 432x288 with 1 Axes>"
      ]
     },
     "metadata": {
      "needs_background": "light"
     },
     "output_type": "display_data"
    }
   ],
   "source": [
    "sb.boxplot( y=df_attacked[\"stddev_dur\"] )"
   ]
  },
  {
   "cell_type": "code",
   "execution_count": 78,
   "id": "66e70126",
   "metadata": {},
   "outputs": [
    {
     "data": {
      "text/plain": [
       "count   477.00000\n",
       "mean      0.03933\n",
       "std       0.18975\n",
       "min       0.00000\n",
       "25%       0.00000\n",
       "50%       0.00000\n",
       "75%       0.00000\n",
       "max       1.89318\n",
       "Name: stddev_dur, dtype: float64"
      ]
     },
     "execution_count": 78,
     "metadata": {},
     "output_type": "execute_result"
    }
   ],
   "source": [
    "df_normal.stddev_dur.describe()"
   ]
  },
  {
   "cell_type": "code",
   "execution_count": 79,
   "id": "aa81dd4a",
   "metadata": {},
   "outputs": [
    {
     "data": {
      "text/plain": [
       "0.00000    384\n",
       "0.00003      4\n",
       "0.00002      2\n",
       "0.00001      2\n",
       "0.00002      2\n",
       "          ... \n",
       "0.00001      1\n",
       "0.12178      1\n",
       "0.00790      1\n",
       "0.00758      1\n",
       "1.23563      1\n",
       "Name: stddev_dur, Length: 87, dtype: int64"
      ]
     },
     "execution_count": 79,
     "metadata": {},
     "output_type": "execute_result"
    }
   ],
   "source": [
    "df_normal.stddev_dur.value_counts()"
   ]
  },
  {
   "cell_type": "code",
   "execution_count": 80,
   "id": "653fc3ca",
   "metadata": {},
   "outputs": [
    {
     "data": {
      "text/plain": [
       "count   1926608.00000\n",
       "mean          7.22696\n",
       "std           4.08917\n",
       "min           0.00000\n",
       "25%           4.54430\n",
       "50%           8.11687\n",
       "75%          10.52129\n",
       "max          16.91227\n",
       "Name: total_dur, dtype: float64"
      ]
     },
     "execution_count": 80,
     "metadata": {},
     "output_type": "execute_result"
    }
   ],
   "source": [
    "df_attacked.total_dur.describe()"
   ]
  },
  {
   "cell_type": "code",
   "execution_count": 81,
   "id": "53450e41",
   "metadata": {},
   "outputs": [
    {
     "data": {
      "text/plain": [
       "<AxesSubplot:ylabel='total_dur'>"
      ]
     },
     "execution_count": 81,
     "metadata": {},
     "output_type": "execute_result"
    },
    {
     "data": {
      "image/png": "[encoded data removed]",
      "text/plain": [
       "<Figure size 432x288 with 1 Axes>"
      ]
     },
     "metadata": {
      "needs_background": "light"
     },
     "output_type": "display_data"
    }
   ],
   "source": [
    "sb.violinplot( y=df_attacked[\"total_dur\"] )\n",
    "\n",
    "# adding violin plot for attacked dataset for total duration"
   ]
  },
  {
   "cell_type": "code",
   "execution_count": 82,
   "id": "415b184a",
   "metadata": {},
   "outputs": [
    {
     "data": {
      "text/plain": [
       "count    477.00000\n",
       "mean     127.79135\n",
       "std      431.35016\n",
       "min        0.00000\n",
       "25%        0.00000\n",
       "50%        0.00749\n",
       "75%        0.21589\n",
       "max     1913.19360\n",
       "Name: total_dur, dtype: float64"
      ]
     },
     "execution_count": 82,
     "metadata": {},
     "output_type": "execute_result"
    }
   ],
   "source": [
    "df_normal.total_dur.describe()"
   ]
  },
  {
   "cell_type": "code",
   "execution_count": 83,
   "id": "4d2b1dfe",
   "metadata": {},
   "outputs": [
    {
     "data": {
      "text/plain": [
       "<AxesSubplot:ylabel='total_dur'>"
      ]
     },
     "execution_count": 83,
     "metadata": {},
     "output_type": "execute_result"
    },
    {
     "data": {
      "image/png": "[encoded data removed]",
      "text/plain": [
       "<Figure size 432x288 with 1 Axes>"
      ]
     },
     "metadata": {
      "needs_background": "light"
     },
     "output_type": "display_data"
    }
   ],
   "source": [
    "sb.violinplot( y=df_normal[\"total_dur\"] )\n",
    "\n",
    "# adding violin plot for normal dataset for total duration"
   ]
  },
  {
   "cell_type": "code",
   "execution_count": 84,
   "id": "6cc0ffc6",
   "metadata": {},
   "outputs": [
    {
     "data": {
      "text/plain": [
       "count   1926608.00000\n",
       "mean          1.30186\n",
       "std           1.49105\n",
       "min           0.00000\n",
       "25%           0.00000\n",
       "50%           0.16964\n",
       "75%           2.76341\n",
       "max           4.98047\n",
       "Name: min_dur, dtype: float64"
      ]
     },
     "execution_count": 84,
     "metadata": {},
     "output_type": "execute_result"
    }
   ],
   "source": [
    "df_attacked.min_dur.describe()"
   ]
  },
  {
   "cell_type": "code",
   "execution_count": 85,
   "id": "666ee05d",
   "metadata": {},
   "outputs": [
    {
     "data": {
      "text/plain": [
       "<AxesSubplot:ylabel='min_dur'>"
      ]
     },
     "execution_count": 85,
     "metadata": {},
     "output_type": "execute_result"
    },
    {
     "data": {
      "image/png": "[encoded data removed]",
      "text/plain": [
       "<Figure size 432x288 with 1 Axes>"
      ]
     },
     "metadata": {
      "needs_background": "light"
     },
     "output_type": "display_data"
    }
   ],
   "source": [
    "sb.boxplot( y=df_attacked[\"min_dur\"] )"
   ]
  },
  {
   "cell_type": "code",
   "execution_count": 86,
   "id": "73b34e16",
   "metadata": {},
   "outputs": [
    {
     "data": {
      "text/plain": [
       "count   477.00000\n",
       "mean      0.31378\n",
       "std       0.95451\n",
       "min       0.00000\n",
       "25%       0.00000\n",
       "50%       0.00743\n",
       "75%       0.16901\n",
       "max       4.95045\n",
       "Name: min_dur, dtype: float64"
      ]
     },
     "execution_count": 86,
     "metadata": {},
     "output_type": "execute_result"
    }
   ],
   "source": [
    "df_normal.min_dur.describe()"
   ]
  },
  {
   "cell_type": "code",
   "execution_count": 87,
   "id": "8a007b33",
   "metadata": {},
   "outputs": [
    {
     "data": {
      "text/plain": [
       "<AxesSubplot:ylabel='min_dur'>"
      ]
     },
     "execution_count": 87,
     "metadata": {},
     "output_type": "execute_result"
    },
    {
     "data": {
      "image/png": "[encoded data removed]",
      "text/plain": [
       "<Figure size 432x288 with 1 Axes>"
      ]
     },
     "metadata": {
      "needs_background": "light"
     },
     "output_type": "display_data"
    }
   ],
   "source": [
    "sb.boxplot( y=df_normal[df_normal[\"min_dur\"] < 0.0175].min_dur )"
   ]
  },
  {
   "cell_type": "code",
   "execution_count": 88,
   "id": "bd5fb37c",
   "metadata": {},
   "outputs": [
    {
     "data": {
      "text/plain": [
       "count   1926608.00000\n",
       "mean          3.34896\n",
       "std           1.64657\n",
       "min           0.00000\n",
       "25%           3.26208\n",
       "50%           4.05764\n",
       "75%           4.17246\n",
       "max           5.00000\n",
       "Name: max_dur, dtype: float64"
      ]
     },
     "execution_count": 88,
     "metadata": {},
     "output_type": "execute_result"
    }
   ],
   "source": [
    "df_attacked.max_dur.describe()"
   ]
  },
  {
   "cell_type": "code",
   "execution_count": 89,
   "id": "6955f45b",
   "metadata": {},
   "outputs": [
    {
     "data": {
      "text/plain": [
       "<AxesSubplot:ylabel='max_dur'>"
      ]
     },
     "execution_count": 89,
     "metadata": {},
     "output_type": "execute_result"
    },
    {
     "data": {
      "image/png": "[encoded data removed]",
      "text/plain": [
       "<Figure size 432x288 with 1 Axes>"
      ]
     },
     "metadata": {
      "needs_background": "light"
     },
     "output_type": "display_data"
    }
   ],
   "source": [
    "sb.boxplot( y=df_attacked[df_attacked[\"max_dur\"] > 3].max_dur )"
   ]
  },
  {
   "cell_type": "code",
   "execution_count": 90,
   "id": "7ffd6718",
   "metadata": {},
   "outputs": [
    {
     "data": {
      "text/plain": [
       "count   477.00000\n",
       "mean      0.53850\n",
       "std       1.39801\n",
       "min       0.00000\n",
       "25%       0.00000\n",
       "50%       0.00749\n",
       "75%       0.21490\n",
       "max       5.00000\n",
       "Name: max_dur, dtype: float64"
      ]
     },
     "execution_count": 90,
     "metadata": {},
     "output_type": "execute_result"
    }
   ],
   "source": [
    "df_normal.max_dur.describe()"
   ]
  },
  {
   "cell_type": "code",
   "execution_count": 91,
   "id": "089cd8f3",
   "metadata": {},
   "outputs": [
    {
     "data": {
      "text/plain": [
       "<AxesSubplot:ylabel='max_dur'>"
      ]
     },
     "execution_count": 91,
     "metadata": {},
     "output_type": "execute_result"
    },
    {
     "data": {
      "image/png": "[encoded data removed]",
      "text/plain": [
       "<Figure size 432x288 with 1 Axes>"
      ]
     },
     "metadata": {
      "needs_background": "light"
     },
     "output_type": "display_data"
    }
   ],
   "source": [
    "sb.boxplot( y=df_normal[df_normal[\"max_dur\"] < 0.02].max_dur )"
   ]
  },
  {
   "cell_type": "code",
   "execution_count": 92,
   "id": "deba66c6",
   "metadata": {},
   "outputs": [
    {
     "data": {
      "text/plain": [
       "<AxesSubplot:>"
      ]
     },
     "execution_count": 92,
     "metadata": {},
     "output_type": "execute_result"
    },
    {
     "data": {
      "image/png": "[encoded data removed]",
      "text/plain": [
       "<Figure size 432x288 with 1 Axes>"
      ]
     },
     "metadata": {
      "needs_background": "light"
     },
     "output_type": "display_data"
    }
   ],
   "source": [
    "df_attacked.spkts.value_counts()[:8].plot(kind='barh')"
   ]
  },
  {
   "cell_type": "code",
   "execution_count": 93,
   "id": "84c82742",
   "metadata": {},
   "outputs": [
    {
     "data": {
      "text/plain": [
       "count   1926608.00000\n",
       "mean          7.02265\n",
       "std           3.80054\n",
       "min           1.00000\n",
       "25%           4.00000\n",
       "50%           6.00000\n",
       "75%           9.00000\n",
       "max          16.00000\n",
       "Name: spkts, dtype: float64"
      ]
     },
     "execution_count": 93,
     "metadata": {},
     "output_type": "execute_result"
    }
   ],
   "source": [
    "df_attacked.spkts.describe()"
   ]
  },
  {
   "cell_type": "code",
   "execution_count": 94,
   "id": "1bd1830f",
   "metadata": {},
   "outputs": [
    {
     "data": {
      "text/plain": [
       "count     477.00000\n",
       "mean     1728.58700\n",
       "std      6527.30286\n",
       "min         1.00000\n",
       "25%         1.00000\n",
       "50%         1.00000\n",
       "75%         2.00000\n",
       "max     35029.00000\n",
       "Name: spkts, dtype: float64"
      ]
     },
     "execution_count": 94,
     "metadata": {},
     "output_type": "execute_result"
    }
   ],
   "source": [
    "df_normal.spkts.describe()"
   ]
  },
  {
   "cell_type": "code",
   "execution_count": 95,
   "id": "9a9c1797",
   "metadata": {},
   "outputs": [
    {
     "data": {
      "text/plain": [
       "1    306\n",
       "2     84\n",
       "5     12\n",
       "3      9\n",
       "4      6\n",
       "Name: spkts, dtype: int64"
      ]
     },
     "execution_count": 95,
     "metadata": {},
     "output_type": "execute_result"
    }
   ],
   "source": [
    "df_normal[\"spkts\"].value_counts()[:5]"
   ]
  },
  {
   "cell_type": "code",
   "execution_count": 96,
   "id": "0102e1ef",
   "metadata": {},
   "outputs": [
    {
     "data": {
      "text/plain": [
       "<AxesSubplot:>"
      ]
     },
     "execution_count": 96,
     "metadata": {},
     "output_type": "execute_result"
    },
    {
     "data": {
      "image/png": "[encoded data removed]",
      "text/plain": [
       "<Figure size 432x288 with 1 Axes>"
      ]
     },
     "metadata": {
      "needs_background": "light"
     },
     "output_type": "display_data"
    }
   ],
   "source": [
    "df_normal.spkts.value_counts()[:8].plot(kind='barh')"
   ]
  },
  {
   "cell_type": "code",
   "execution_count": 97,
   "id": "e3c814f9",
   "metadata": {},
   "outputs": [
    {
     "data": {
      "text/plain": [
       "<AxesSubplot:>"
      ]
     },
     "execution_count": 97,
     "metadata": {},
     "output_type": "execute_result"
    },
    {
     "data": {
      "image/png": "[encoded data removed]",
      "text/plain": [
       "<Figure size 432x288 with 1 Axes>"
      ]
     },
     "metadata": {
      "needs_background": "light"
     },
     "output_type": "display_data"
    }
   ],
   "source": [
    "df_attacked.dpkts.value_counts()[:8].plot(kind='barh')"
   ]
  },
  {
   "cell_type": "code",
   "execution_count": 98,
   "id": "685b3d05",
   "metadata": {},
   "outputs": [
    {
     "data": {
      "text/plain": [
       "count   1926608.00000\n",
       "mean          0.30734\n",
       "std           0.60690\n",
       "min           0.00000\n",
       "25%           0.00000\n",
       "50%           0.00000\n",
       "75%           0.00000\n",
       "max           4.00000\n",
       "Name: dpkts, dtype: float64"
      ]
     },
     "execution_count": 98,
     "metadata": {},
     "output_type": "execute_result"
    }
   ],
   "source": [
    "df_attacked[\"dpkts\"].describe()"
   ]
  },
  {
   "cell_type": "code",
   "execution_count": 99,
   "id": "f027770d",
   "metadata": {},
   "outputs": [
    {
     "data": {
      "text/plain": [
       "<AxesSubplot:>"
      ]
     },
     "execution_count": 99,
     "metadata": {},
     "output_type": "execute_result"
    },
    {
     "data": {
      "image/png": "[encoded data removed]",
      "text/plain": [
       "<Figure size 432x288 with 1 Axes>"
      ]
     },
     "metadata": {
      "needs_background": "light"
     },
     "output_type": "display_data"
    }
   ],
   "source": [
    "df_normal.dpkts.value_counts()[:8].plot(kind='barh')"
   ]
  },
  {
   "cell_type": "code",
   "execution_count": 100,
   "id": "ff772c36",
   "metadata": {},
   "outputs": [
    {
     "data": {
      "text/plain": [
       "count     477.00000\n",
       "mean      637.57442\n",
       "std      4311.35678\n",
       "min         0.00000\n",
       "25%         0.00000\n",
       "50%         1.00000\n",
       "75%         1.00000\n",
       "max     35029.00000\n",
       "Name: dpkts, dtype: float64"
      ]
     },
     "execution_count": 100,
     "metadata": {},
     "output_type": "execute_result"
    }
   ],
   "source": [
    "df_normal[\"dpkts\"].describe()"
   ]
  },
  {
   "cell_type": "code",
   "execution_count": 101,
   "id": "a27d07e1",
   "metadata": {},
   "outputs": [
    {
     "data": {
      "text/plain": [
       "<AxesSubplot:>"
      ]
     },
     "execution_count": 101,
     "metadata": {},
     "output_type": "execute_result"
    },
    {
     "data": {
      "image/png": "[encoded data removed]",
      "text/plain": [
       "<Figure size 432x288 with 1 Axes>"
      ]
     },
     "metadata": {
      "needs_background": "light"
     },
     "output_type": "display_data"
    }
   ],
   "source": [
    "df_attacked.sbytes.value_counts()[:8].plot(kind=\"bar\")"
   ]
  },
  {
   "cell_type": "code",
   "execution_count": 102,
   "id": "ac6e63c1",
   "metadata": {},
   "outputs": [
    {
     "data": {
      "text/plain": [
       "<AxesSubplot:>"
      ]
     },
     "execution_count": 102,
     "metadata": {},
     "output_type": "execute_result"
    },
    {
     "data": {
      "image/png": "[encoded data removed]",
      "text/plain": [
       "<Figure size 432x288 with 1 Axes>"
      ]
     },
     "metadata": {
      "needs_background": "light"
     },
     "output_type": "display_data"
    }
   ],
   "source": [
    "df_normal.sbytes.value_counts()[:8].plot(kind=\"bar\")"
   ]
  },
  {
   "cell_type": "code",
   "execution_count": 103,
   "id": "b2f640d8",
   "metadata": {},
   "outputs": [
    {
     "data": {
      "text/plain": [
       "count   1926608.00000\n",
       "mean        596.53847\n",
       "std         216.14277\n",
       "min          60.00000\n",
       "25%         420.00000\n",
       "50%         616.00000\n",
       "75%         770.00000\n",
       "max        5548.00000\n",
       "Name: sbytes, dtype: float64"
      ]
     },
     "execution_count": 103,
     "metadata": {},
     "output_type": "execute_result"
    }
   ],
   "source": [
    "df_attacked.sbytes.describe()"
   ]
  },
  {
   "cell_type": "code",
   "execution_count": 104,
   "id": "16ad8eda",
   "metadata": {},
   "outputs": [
    {
     "data": {
      "text/plain": [
       "<AxesSubplot:ylabel='sbytes'>"
      ]
     },
     "execution_count": 104,
     "metadata": {},
     "output_type": "execute_result"
    },
    {
     "data": {
      "image/png": "[encoded data removed]",
      "text/plain": [
       "<Figure size 432x288 with 1 Axes>"
      ]
     },
     "metadata": {
      "needs_background": "light"
     },
     "output_type": "display_data"
    }
   ],
   "source": [
    "sb.boxplot( y=df_attacked[df_attacked[\"sbytes\"] < 1000].sbytes ) "
   ]
  },
  {
   "cell_type": "code",
   "execution_count": 105,
   "id": "a52db307",
   "metadata": {},
   "outputs": [
    {
     "data": {
      "text/plain": [
       "count        477.00000\n",
       "mean     1442486.37945\n",
       "std      6147351.39433\n",
       "min           42.00000\n",
       "25%           86.00000\n",
       "50%           92.00000\n",
       "75%          172.00000\n",
       "max     37747017.00000\n",
       "Name: sbytes, dtype: float64"
      ]
     },
     "execution_count": 105,
     "metadata": {},
     "output_type": "execute_result"
    }
   ],
   "source": [
    "df_normal.sbytes.describe()"
   ]
  },
  {
   "cell_type": "code",
   "execution_count": 106,
   "id": "6aa2ecd1",
   "metadata": {},
   "outputs": [
    {
     "data": {
      "text/plain": [
       "<AxesSubplot:ylabel='sbytes'>"
      ]
     },
     "execution_count": 106,
     "metadata": {},
     "output_type": "execute_result"
    },
    {
     "data": {
      "image/png": "[encoded data removed]",
      "text/plain": [
       "<Figure size 432x288 with 1 Axes>"
      ]
     },
     "metadata": {
      "needs_background": "light"
     },
     "output_type": "display_data"
    }
   ],
   "source": [
    "sb.boxplot( y=df_normal[df_normal[\"sbytes\"]  < 200 ].sbytes )   "
   ]
  },
  {
   "cell_type": "code",
   "execution_count": 107,
   "id": "d5ea9ddf",
   "metadata": {},
   "outputs": [
    {
     "data": {
      "text/plain": [
       "<AxesSubplot:>"
      ]
     },
     "execution_count": 107,
     "metadata": {},
     "output_type": "execute_result"
    },
    {
     "data": {
      "image/png": "[encoded data removed]",
      "text/plain": [
       "<Figure size 432x288 with 1 Axes>"
      ]
     },
     "metadata": {
      "needs_background": "light"
     },
     "output_type": "display_data"
    }
   ],
   "source": [
    "df_attacked.dbytes.value_counts()[:8].plot(kind=\"bar\")"
   ]
  },
  {
   "cell_type": "code",
   "execution_count": 108,
   "id": "a08820d8",
   "metadata": {},
   "outputs": [
    {
     "data": {
      "text/plain": [
       "<AxesSubplot:>"
      ]
     },
     "execution_count": 108,
     "metadata": {},
     "output_type": "execute_result"
    },
    {
     "data": {
      "image/png": "[encoded data removed]",
      "text/plain": [
       "<Figure size 432x288 with 1 Axes>"
      ]
     },
     "metadata": {
      "needs_background": "light"
     },
     "output_type": "display_data"
    }
   ],
   "source": [
    "df_normal.dbytes.value_counts()[:8].plot(kind=\"bar\")"
   ]
  },
  {
   "cell_type": "code",
   "execution_count": 109,
   "id": "83d380cc",
   "metadata": {},
   "outputs": [
    {
     "data": {
      "text/plain": [
       "count   1926608.00000\n",
       "mean         18.71014\n",
       "std          39.76166\n",
       "min           0.00000\n",
       "25%           0.00000\n",
       "50%           0.00000\n",
       "75%           0.00000\n",
       "max         774.00000\n",
       "Name: dbytes, dtype: float64"
      ]
     },
     "execution_count": 109,
     "metadata": {},
     "output_type": "execute_result"
    }
   ],
   "source": [
    "df_attacked.dbytes.describe()"
   ]
  },
  {
   "cell_type": "code",
   "execution_count": 110,
   "id": "5738fa43",
   "metadata": {},
   "outputs": [
    {
     "data": {
      "text/plain": [
       "0      1463327\n",
       "60      353229\n",
       "120      93356\n",
       "180      14413\n",
       "240       1286\n",
       "766        810\n",
       "700        176\n",
       "274          9\n",
       "774          2\n",
       "Name: dbytes, dtype: int64"
      ]
     },
     "execution_count": 110,
     "metadata": {},
     "output_type": "execute_result"
    }
   ],
   "source": [
    "df_attacked.dbytes.value_counts()"
   ]
  },
  {
   "cell_type": "code",
   "execution_count": 111,
   "id": "29387e54",
   "metadata": {},
   "outputs": [
    {
     "data": {
      "text/plain": [
       "count   463281.00000\n",
       "mean        77.80832\n",
       "std         44.45672\n",
       "min         60.00000\n",
       "25%         60.00000\n",
       "50%         60.00000\n",
       "75%         60.00000\n",
       "max        774.00000\n",
       "Name: dbytes, dtype: float64"
      ]
     },
     "execution_count": 111,
     "metadata": {},
     "output_type": "execute_result"
    }
   ],
   "source": [
    "df_get_attacked = df_attacked[df_attacked[\"dbytes\"] != 0]\n",
    "df_get_attacked[\"dbytes\"].describe()"
   ]
  },
  {
   "cell_type": "code",
   "execution_count": 112,
   "id": "98d973b9",
   "metadata": {},
   "outputs": [
    {
     "data": {
      "text/plain": [
       "count        477.00000\n",
       "mean      622025.08805\n",
       "std      4296180.13084\n",
       "min            0.00000\n",
       "25%            0.00000\n",
       "50%           86.00000\n",
       "75%          390.00000\n",
       "max     34181742.00000\n",
       "Name: dbytes, dtype: float64"
      ]
     },
     "execution_count": 112,
     "metadata": {},
     "output_type": "execute_result"
    }
   ],
   "source": [
    "df_normal.dbytes.describe()"
   ]
  },
  {
   "cell_type": "code",
   "execution_count": 113,
   "id": "8304f287",
   "metadata": {},
   "outputs": [
    {
     "data": {
      "text/plain": [
       "<AxesSubplot:ylabel='dbytes'>"
      ]
     },
     "execution_count": 113,
     "metadata": {},
     "output_type": "execute_result"
    },
    {
     "data": {
      "image/png": "[encoded data removed]",
      "text/plain": [
       "<Figure size 432x288 with 1 Axes>"
      ]
     },
     "metadata": {
      "needs_background": "light"
     },
     "output_type": "display_data"
    }
   ],
   "source": [
    "sb.boxplot( y=df_normal[df_normal[\"dbytes\"]  < 200 ].dbytes ) "
   ]
  },
  {
   "cell_type": "code",
   "execution_count": 114,
   "id": "5baed420",
   "metadata": {},
   "outputs": [
    {
     "data": {
      "text/plain": [
       "count   1926608.00000\n",
       "mean          0.64506\n",
       "std          31.38203\n",
       "min           0.00000\n",
       "25%           0.27143\n",
       "50%           0.46379\n",
       "75%           0.65156\n",
       "max       43478.26172\n",
       "Name: rate, dtype: float64"
      ]
     },
     "execution_count": 114,
     "metadata": {},
     "output_type": "execute_result"
    }
   ],
   "source": [
    "df_attacked.rate.describe()"
   ]
  },
  {
   "cell_type": "code",
   "execution_count": 115,
   "id": "5df54e97",
   "metadata": {},
   "outputs": [
    {
     "data": {
      "text/plain": [
       "<AxesSubplot:ylabel='rate'>"
      ]
     },
     "execution_count": 115,
     "metadata": {},
     "output_type": "execute_result"
    },
    {
     "data": {
      "image/png": "[encoded data removed]",
      "text/plain": [
       "<Figure size 432x288 with 1 Axes>"
      ]
     },
     "metadata": {
      "needs_background": "light"
     },
     "output_type": "display_data"
    }
   ],
   "source": [
    "sb.violinplot( y=df_attacked[df_attacked[\"rate\"]  < 0.8].rate ) "
   ]
  },
  {
   "cell_type": "code",
   "execution_count": 116,
   "id": "719911ce",
   "metadata": {},
   "outputs": [
    {
     "data": {
      "text/plain": [
       "count     477.00000\n",
       "mean     1068.10346\n",
       "std      7232.16636\n",
       "min         0.00000\n",
       "25%         0.22794\n",
       "50%         4.55544\n",
       "75%        39.86750\n",
       "max     90909.09375\n",
       "Name: rate, dtype: float64"
      ]
     },
     "execution_count": 116,
     "metadata": {},
     "output_type": "execute_result"
    }
   ],
   "source": [
    "df_normal.rate.describe()"
   ]
  },
  {
   "cell_type": "code",
   "execution_count": 117,
   "id": "bbda7638",
   "metadata": {},
   "outputs": [
    {
     "data": {
      "text/plain": [
       "<AxesSubplot:ylabel='rate'>"
      ]
     },
     "execution_count": 117,
     "metadata": {},
     "output_type": "execute_result"
    },
    {
     "data": {
      "image/png": "[encoded data removed]",
      "text/plain": [
       "<Figure size 432x288 with 1 Axes>"
      ]
     },
     "metadata": {
      "needs_background": "light"
     },
     "output_type": "display_data"
    }
   ],
   "source": [
    "sb.violinplot( y=df_normal[df_normal[\"rate\"]  < 8].rate )  "
   ]
  },
  {
   "cell_type": "code",
   "execution_count": 118,
   "id": "e9299362",
   "metadata": {},
   "outputs": [
    {
     "data": {
      "text/plain": [
       "count   1926608.00000\n",
       "mean          0.51535\n",
       "std           0.60616\n",
       "min           0.00000\n",
       "25%           0.24986\n",
       "50%           0.41008\n",
       "75%           0.63466\n",
       "max           7.33945\n",
       "Name: srate, dtype: float64"
      ]
     },
     "execution_count": 118,
     "metadata": {},
     "output_type": "execute_result"
    }
   ],
   "source": [
    "df_attacked.srate.describe()"
   ]
  },
  {
   "cell_type": "code",
   "execution_count": 119,
   "id": "2a83749c",
   "metadata": {},
   "outputs": [
    {
     "data": {
      "text/plain": [
       "<AxesSubplot:ylabel='srate'>"
      ]
     },
     "execution_count": 119,
     "metadata": {},
     "output_type": "execute_result"
    },
    {
     "data": {
      "image/png": "[encoded data removed]",
      "text/plain": [
       "<Figure size 432x288 with 1 Axes>"
      ]
     },
     "metadata": {
      "needs_background": "light"
     },
     "output_type": "display_data"
    }
   ],
   "source": [
    "sb.boxplot( y=df_attacked[df_attacked[\"srate\"]<0.8].srate)"
   ]
  },
  {
   "cell_type": "code",
   "execution_count": 120,
   "id": "1379f10f",
   "metadata": {},
   "outputs": [
    {
     "data": {
      "text/plain": [
       "count       477.00000\n",
       "mean       5943.69924\n",
       "std       58124.55734\n",
       "min           0.00000\n",
       "25%           0.00000\n",
       "50%           0.00000\n",
       "75%           0.39981\n",
       "max     1000000.00000\n",
       "Name: srate, dtype: float64"
      ]
     },
     "execution_count": 120,
     "metadata": {},
     "output_type": "execute_result"
    }
   ],
   "source": [
    "df_normal.srate.describe()"
   ]
  },
  {
   "cell_type": "code",
   "execution_count": 121,
   "id": "af00259a",
   "metadata": {},
   "outputs": [
    {
     "data": {
      "text/plain": [
       "0.00000     306\n",
       "0.00275       8\n",
       "0.00111       4\n",
       "0.39981       3\n",
       "0.39982       2\n",
       "           ... \n",
       "18.04768      1\n",
       "18.04716      1\n",
       "0.90097       1\n",
       "0.12326       1\n",
       "0.86790       1\n",
       "Name: srate, Length: 147, dtype: int64"
      ]
     },
     "execution_count": 121,
     "metadata": {},
     "output_type": "execute_result"
    }
   ],
   "source": [
    "df_normal.srate.value_counts()"
   ]
  },
  {
   "cell_type": "code",
   "execution_count": 122,
   "id": "5ae671d4",
   "metadata": {},
   "outputs": [
    {
     "data": {
      "text/plain": [
       "1.00271    813\n",
       "0.49449    791\n",
       "0.48444    782\n",
       "0.48450    768\n",
       "0.49070    757\n",
       "          ... \n",
       "3.20625      1\n",
       "3.20623      1\n",
       "3.20622      1\n",
       "3.20621      1\n",
       "0.33056      1\n",
       "Name: srate, Length: 68483, dtype: int64"
      ]
     },
     "execution_count": 122,
     "metadata": {},
     "output_type": "execute_result"
    }
   ],
   "source": [
    "df_get_attacked = df_attacked[df_attacked[\"srate\"] != 0]\n",
    "df_get_attacked[\"srate\"].value_counts()"
   ]
  },
  {
   "cell_type": "code",
   "execution_count": 123,
   "id": "0838ea43",
   "metadata": {},
   "outputs": [
    {
     "data": {
      "text/plain": [
       "<AxesSubplot:ylabel='srate'>"
      ]
     },
     "execution_count": 123,
     "metadata": {},
     "output_type": "execute_result"
    },
    {
     "data": {
      "image/png": "[encoded data removed]",
      "text/plain": [
       "<Figure size 432x288 with 1 Axes>"
      ]
     },
     "metadata": {
      "needs_background": "light"
     },
     "output_type": "display_data"
    }
   ],
   "source": [
    "sb.boxplot( y=df_get_attacked[df_get_attacked[\"srate\"] < 0.8].srate)"
   ]
  },
  {
   "cell_type": "code",
   "execution_count": 124,
   "id": "87836a17",
   "metadata": {},
   "outputs": [
    {
     "data": {
      "text/plain": [
       "count   1926608.00000\n",
       "mean          0.00704\n",
       "std           0.03567\n",
       "min           0.00000\n",
       "25%           0.00000\n",
       "50%           0.00000\n",
       "75%           0.00000\n",
       "max           1.06458\n",
       "Name: drate, dtype: float64"
      ]
     },
     "execution_count": 124,
     "metadata": {},
     "output_type": "execute_result"
    }
   ],
   "source": [
    "df_attacked.drate.describe()"
   ]
  },
  {
   "cell_type": "code",
   "execution_count": 125,
   "id": "f456f2c9",
   "metadata": {},
   "outputs": [
    {
     "data": {
      "text/plain": [
       "0.00000    1816556\n",
       "0.02771        135\n",
       "0.07141        123\n",
       "0.02709        122\n",
       "0.06634        116\n",
       "            ...   \n",
       "0.59078          1\n",
       "0.59085          1\n",
       "0.59089          1\n",
       "0.16117          1\n",
       "0.46828          1\n",
       "Name: drate, Length: 6713, dtype: int64"
      ]
     },
     "execution_count": 125,
     "metadata": {},
     "output_type": "execute_result"
    }
   ],
   "source": [
    "df_attacked.drate.value_counts()"
   ]
  },
  {
   "cell_type": "code",
   "execution_count": 126,
   "id": "066a3fae",
   "metadata": {},
   "outputs": [
    {
     "data": {
      "text/plain": [
       "<AxesSubplot:ylabel='drate'>"
      ]
     },
     "execution_count": 126,
     "metadata": {},
     "output_type": "execute_result"
    },
    {
     "data": {
      "image/png": "[encoded data removed]",
      "text/plain": [
       "<Figure size 432x288 with 1 Axes>"
      ]
     },
     "metadata": {
      "needs_background": "light"
     },
     "output_type": "display_data"
    }
   ],
   "source": [
    "df_get_attacked = df_attacked[df_attacked[\"drate\"] != 0]\n",
    "sb.boxplot( y=df_get_attacked[df_get_attacked[\"drate\"] < 0.2].drate)"
   ]
  },
  {
   "cell_type": "code",
   "execution_count": 127,
   "id": "6676a4eb",
   "metadata": {},
   "outputs": [
    {
     "data": {
      "text/plain": [
       "count    477.00000\n",
       "mean      11.02854\n",
       "std      133.64322\n",
       "min        0.00000\n",
       "25%        0.00000\n",
       "50%        0.00000\n",
       "75%        0.00000\n",
       "max     2178.64917\n",
       "Name: drate, dtype: float64"
      ]
     },
     "execution_count": 127,
     "metadata": {},
     "output_type": "execute_result"
    }
   ],
   "source": [
    "df_normal.drate.describe()"
   ]
  },
  {
   "cell_type": "code",
   "execution_count": 128,
   "id": "544108be",
   "metadata": {},
   "outputs": [
    {
     "data": {
      "text/plain": [
       "0.00000       405\n",
       "0.00275         8\n",
       "17.63355        2\n",
       "0.00176         2\n",
       "0.00507         1\n",
       "             ... \n",
       "9.83423         1\n",
       "8.60459         1\n",
       "16.03649        1\n",
       "2178.64917      1\n",
       "0.86790         1\n",
       "Name: drate, Length: 64, dtype: int64"
      ]
     },
     "execution_count": 128,
     "metadata": {},
     "output_type": "execute_result"
    }
   ],
   "source": [
    "df_normal.drate.value_counts()"
   ]
  },
  {
   "cell_type": "code",
   "execution_count": 129,
   "id": "63bd8833",
   "metadata": {},
   "outputs": [
    {
     "data": {
      "text/plain": [
       "TCP     977380\n",
       "UDP     948239\n",
       "HTTP       989\n",
       "Name: subcategory, dtype: int64"
      ]
     },
     "execution_count": 129,
     "metadata": {},
     "output_type": "execute_result"
    }
   ],
   "source": [
    "df_attacked.subcategory.value_counts()"
   ]
  },
  {
   "cell_type": "code",
   "execution_count": 130,
   "id": "00d9aefb",
   "metadata": {},
   "outputs": [
    {
     "data": {
      "image/png": "[encoded data removed]",
      "text/plain": [
       "<Figure size 432x288 with 1 Axes>"
      ]
     },
     "metadata": {},
     "output_type": "display_data"
    }
   ],
   "source": [
    "gen_pie('subcategory',3,df_attacked)"
   ]
  },
  {
   "cell_type": "code",
   "execution_count": null,
   "id": "c1801710",
   "metadata": {},
   "outputs": [],
   "source": []
  }
 ],
 "metadata": {
  "kernelspec": {
   "display_name": "Python 3 (ipykernel)",
   "language": "python",
   "name": "python3"
  },
  "language_info": {
   "codemirror_mode": {
    "name": "ipython",
    "version": 3
   },
   "file_extension": ".py",
   "mimetype": "text/x-python",
   "name": "python",
   "nbconvert_exporter": "python",
   "pygments_lexer": "ipython3",
   "version": "3.9.12"
  }
 },
 "nbformat": 4,
 "nbformat_minor": 5
}
