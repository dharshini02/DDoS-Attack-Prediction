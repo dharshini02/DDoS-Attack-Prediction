{
 "cells": [
  {
   "cell_type": "code",
   "execution_count": 2,
   "id": "6d62c2cc",
   "metadata": {},
   "outputs": [
    {
     "name": "stdout",
     "output_type": "stream",
     "text": [
      "[1 1 1 ... 1 1 1]\n",
      "99.99299460065332\n"
     ]
    }
   ],
   "source": [
    "import pandas as pd\n",
    "from sklearn.preprocessing import LabelEncoder\n",
    "from sklearn.ensemble import RandomForestClassifier\n",
    "from sklearn.model_selection import train_test_split\n",
    "from sklearn import neighbors\n",
    "from sklearn.metrics import accuracy_score\n",
    "import joblib\n",
    "pd.set_option('display.max_rows', None)\n",
    "pd.set_option('display.max_columns', None)\n",
    "import warnings\n",
    "warnings.filterwarnings(\"ignore\")\n",
    "\n",
    "df = pd.read_csv('ml_dataset.csv')\n",
    "#input faetures\n",
    "X = df[['average_dur','stddev_dur','min_dur','max_dur','srate','drate']]\n",
    "\n",
    "#output target\n",
    "encoder = LabelEncoder()\n",
    "y = df[['attack']]\n",
    "\n",
    "#train-test-split\n",
    "X_train,X_test,y_train,y_test = train_test_split(X,y,test_size=.4)\n",
    "\n",
    "#model\n",
    "model=RandomForestClassifier(n_estimators=5)\n",
    "model.fit(X_train, y_train)\n",
    "\n",
    "# Save the model as a pickle in a file\n",
    "joblib.dump(model, 'model.pkl')\n",
    "\n",
    "\n",
    "#prediction\n",
    "predictions=model.predict(X_test)\n",
    "print(predictions)\n",
    "print(accuracy_score(y_test,predictions)*100)"
   ]
  },
  {
   "cell_type": "code",
   "execution_count": null,
   "id": "f0b806a2",
   "metadata": {},
   "outputs": [],
   "source": [
    "pip install sklearn"
   ]
  },
  {
   "cell_type": "code",
   "execution_count": null,
   "id": "bd9a1fcf",
   "metadata": {},
   "outputs": [],
   "source": [
    "import joblib"
   ]
  },
  {
   "cell_type": "code",
   "execution_count": null,
   "id": "afd8164f",
   "metadata": {},
   "outputs": [],
   "source": []
  }
 ],
 "metadata": {
  "kernelspec": {
   "display_name": "Python 3 (ipykernel)",
   "language": "python",
   "name": "python3"
  },
  "language_info": {
   "codemirror_mode": {
    "name": "ipython",
    "version": 3
   },
   "file_extension": ".py",
   "mimetype": "text/x-python",
   "name": "python",
   "nbconvert_exporter": "python",
   "pygments_lexer": "ipython3",
   "version": "3.9.12"
  }
 },
 "nbformat": 4,
 "nbformat_minor": 5
}
