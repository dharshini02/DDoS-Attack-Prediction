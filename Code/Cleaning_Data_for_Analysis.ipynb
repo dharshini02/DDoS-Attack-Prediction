{
 "cells": [
  {
   "cell_type": "code",
   "execution_count": 1,
   "id": "4b90c8bc",
   "metadata": {},
   "outputs": [],
   "source": [
    "import pandas as pd"
   ]
  },
  {
   "cell_type": "code",
   "execution_count": 2,
   "id": "da7e38f8",
   "metadata": {},
   "outputs": [
    {
     "name": "stderr",
     "output_type": "stream",
     "text": [
      "C:\\Users\\Shalini\\AppData\\Local\\Temp\\ipykernel_28916\\860480326.py:1: DtypeWarning: Columns (8,10) have mixed types. Specify dtype option on import or set low_memory=False.\n",
      "  df_original = pd.read_csv(\"DDoSdata.csv\")\n"
     ]
    }
   ],
   "source": [
    "df_original = pd.read_csv(\"DDoSdata.csv\")\n",
    "df = df_original.copy()"
   ]
  },
  {
   "cell_type": "code",
   "execution_count": 3,
   "id": "958700d1",
   "metadata": {},
   "outputs": [
    {
     "data": {
      "text/plain": [
       "(1927101, 47)"
      ]
     },
     "execution_count": 3,
     "metadata": {},
     "output_type": "execute_result"
    }
   ],
   "source": [
    "df.shape"
   ]
  },
  {
   "cell_type": "code",
   "execution_count": 4,
   "id": "7d2e0eb6",
   "metadata": {},
   "outputs": [
    {
     "data": {
      "text/plain": [
       "array(['DDoS', 'Normal'], dtype=object)"
      ]
     },
     "execution_count": 4,
     "metadata": {},
     "output_type": "execute_result"
    }
   ],
   "source": [
    "df.category.unique()"
   ]
  },
  {
   "cell_type": "code",
   "execution_count": 5,
   "id": "b01bf7b0",
   "metadata": {},
   "outputs": [
    {
     "data": {
      "text/plain": [
       "Unnamed: 0                          0\n",
       "pkSeqID                             0\n",
       "stime                               0\n",
       "flgs                                0\n",
       "flgs_number                         0\n",
       "proto                               0\n",
       "proto_number                        0\n",
       "saddr                               0\n",
       "sport                               0\n",
       "daddr                               0\n",
       "dport                               0\n",
       "pkts                                0\n",
       "bytes                               0\n",
       "state                               0\n",
       "state_number                        0\n",
       "ltime                               0\n",
       "seq                                 0\n",
       "dur                                 0\n",
       "mean                                0\n",
       "stddev                              0\n",
       "sum                                 0\n",
       "min                                 0\n",
       "max                                 0\n",
       "spkts                               0\n",
       "dpkts                               0\n",
       "sbytes                              0\n",
       "dbytes                              0\n",
       "rate                                0\n",
       "srate                               0\n",
       "drate                               0\n",
       "TnBPSrcIP                           0\n",
       "TnBPDstIP                           0\n",
       "TnP_PSrcIP                          0\n",
       "TnP_PDstIP                          0\n",
       "TnP_PerProto                        0\n",
       "TnP_Per_Dport                       0\n",
       "AR_P_Proto_P_SrcIP                  0\n",
       "AR_P_Proto_P_DstIP                  0\n",
       "N_IN_Conn_P_DstIP                   0\n",
       "N_IN_Conn_P_SrcIP                   0\n",
       "AR_P_Proto_P_Sport                  0\n",
       "AR_P_Proto_P_Dport                  0\n",
       "Pkts_P_State_P_Protocol_P_DestIP    0\n",
       "Pkts_P_State_P_Protocol_P_SrcIP     0\n",
       "attack                              0\n",
       "category                            0\n",
       "subcategory                         0\n",
       "dtype: int64"
      ]
     },
     "execution_count": 5,
     "metadata": {},
     "output_type": "execute_result"
    }
   ],
   "source": [
    "df.isnull().sum()"
   ]
  },
  {
   "cell_type": "code",
   "execution_count": 6,
   "id": "c3ddfb79",
   "metadata": {},
   "outputs": [],
   "source": [
    "indexNames = df[ (df['category'] !='DDoS') & (df['category'] != 'Normal') ].index\n",
    "df.drop(indexNames , inplace=True)"
   ]
  },
  {
   "cell_type": "code",
   "execution_count": 7,
   "id": "18cccd43",
   "metadata": {},
   "outputs": [
    {
     "data": {
      "text/html": [
       "<div>\n",
       "<style scoped>\n",
       "    .dataframe tbody tr th:only-of-type {\n",
       "        vertical-align: middle;\n",
       "    }\n",
       "\n",
       "    .dataframe tbody tr th {\n",
       "        vertical-align: top;\n",
       "    }\n",
       "\n",
       "    .dataframe thead th {\n",
       "        text-align: right;\n",
       "    }\n",
       "</style>\n",
       "<table border=\"1\" class=\"dataframe\">\n",
       "  <thead>\n",
       "    <tr style=\"text-align: right;\">\n",
       "      <th></th>\n",
       "      <th>Unnamed: 0</th>\n",
       "      <th>pkSeqID</th>\n",
       "      <th>stime</th>\n",
       "      <th>flgs</th>\n",
       "      <th>flgs_number</th>\n",
       "      <th>proto</th>\n",
       "      <th>proto_number</th>\n",
       "      <th>saddr</th>\n",
       "      <th>sport</th>\n",
       "      <th>daddr</th>\n",
       "      <th>...</th>\n",
       "      <th>AR_P_Proto_P_DstIP</th>\n",
       "      <th>N_IN_Conn_P_DstIP</th>\n",
       "      <th>N_IN_Conn_P_SrcIP</th>\n",
       "      <th>AR_P_Proto_P_Sport</th>\n",
       "      <th>AR_P_Proto_P_Dport</th>\n",
       "      <th>Pkts_P_State_P_Protocol_P_DestIP</th>\n",
       "      <th>Pkts_P_State_P_Protocol_P_SrcIP</th>\n",
       "      <th>attack</th>\n",
       "      <th>category</th>\n",
       "      <th>subcategory</th>\n",
       "    </tr>\n",
       "  </thead>\n",
       "  <tbody>\n",
       "    <tr>\n",
       "      <th>0</th>\n",
       "      <td>1650261</td>\n",
       "      <td>1650261</td>\n",
       "      <td>1.528103e+09</td>\n",
       "      <td>e</td>\n",
       "      <td>1</td>\n",
       "      <td>tcp</td>\n",
       "      <td>1</td>\n",
       "      <td>192.168.100.150</td>\n",
       "      <td>54110</td>\n",
       "      <td>192.168.100.3</td>\n",
       "      <td>...</td>\n",
       "      <td>1.21662</td>\n",
       "      <td>40</td>\n",
       "      <td>38</td>\n",
       "      <td>1.56093</td>\n",
       "      <td>1.21662</td>\n",
       "      <td>328</td>\n",
       "      <td>308</td>\n",
       "      <td>1</td>\n",
       "      <td>DDoS</td>\n",
       "      <td>HTTP</td>\n",
       "    </tr>\n",
       "    <tr>\n",
       "      <th>1</th>\n",
       "      <td>1650262</td>\n",
       "      <td>1650262</td>\n",
       "      <td>1.528103e+09</td>\n",
       "      <td>e</td>\n",
       "      <td>1</td>\n",
       "      <td>tcp</td>\n",
       "      <td>1</td>\n",
       "      <td>192.168.100.150</td>\n",
       "      <td>54112</td>\n",
       "      <td>192.168.100.3</td>\n",
       "      <td>...</td>\n",
       "      <td>1.21662</td>\n",
       "      <td>40</td>\n",
       "      <td>38</td>\n",
       "      <td>1.56107</td>\n",
       "      <td>1.21662</td>\n",
       "      <td>328</td>\n",
       "      <td>308</td>\n",
       "      <td>1</td>\n",
       "      <td>DDoS</td>\n",
       "      <td>HTTP</td>\n",
       "    </tr>\n",
       "    <tr>\n",
       "      <th>2</th>\n",
       "      <td>1650263</td>\n",
       "      <td>1650263</td>\n",
       "      <td>1.528103e+09</td>\n",
       "      <td>e</td>\n",
       "      <td>1</td>\n",
       "      <td>tcp</td>\n",
       "      <td>1</td>\n",
       "      <td>192.168.100.150</td>\n",
       "      <td>54114</td>\n",
       "      <td>192.168.100.3</td>\n",
       "      <td>...</td>\n",
       "      <td>1.21662</td>\n",
       "      <td>40</td>\n",
       "      <td>38</td>\n",
       "      <td>1.24980</td>\n",
       "      <td>1.21662</td>\n",
       "      <td>328</td>\n",
       "      <td>308</td>\n",
       "      <td>1</td>\n",
       "      <td>DDoS</td>\n",
       "      <td>HTTP</td>\n",
       "    </tr>\n",
       "    <tr>\n",
       "      <th>3</th>\n",
       "      <td>1650264</td>\n",
       "      <td>1650264</td>\n",
       "      <td>1.528103e+09</td>\n",
       "      <td>e</td>\n",
       "      <td>1</td>\n",
       "      <td>tcp</td>\n",
       "      <td>1</td>\n",
       "      <td>192.168.100.150</td>\n",
       "      <td>54116</td>\n",
       "      <td>192.168.100.3</td>\n",
       "      <td>...</td>\n",
       "      <td>1.21662</td>\n",
       "      <td>40</td>\n",
       "      <td>38</td>\n",
       "      <td>1.24986</td>\n",
       "      <td>1.21662</td>\n",
       "      <td>328</td>\n",
       "      <td>308</td>\n",
       "      <td>1</td>\n",
       "      <td>DDoS</td>\n",
       "      <td>HTTP</td>\n",
       "    </tr>\n",
       "    <tr>\n",
       "      <th>4</th>\n",
       "      <td>1650265</td>\n",
       "      <td>1650265</td>\n",
       "      <td>1.528103e+09</td>\n",
       "      <td>e</td>\n",
       "      <td>1</td>\n",
       "      <td>tcp</td>\n",
       "      <td>1</td>\n",
       "      <td>192.168.100.150</td>\n",
       "      <td>54118</td>\n",
       "      <td>192.168.100.3</td>\n",
       "      <td>...</td>\n",
       "      <td>1.21662</td>\n",
       "      <td>40</td>\n",
       "      <td>38</td>\n",
       "      <td>1.24991</td>\n",
       "      <td>1.21662</td>\n",
       "      <td>328</td>\n",
       "      <td>308</td>\n",
       "      <td>1</td>\n",
       "      <td>DDoS</td>\n",
       "      <td>HTTP</td>\n",
       "    </tr>\n",
       "  </tbody>\n",
       "</table>\n",
       "<p>5 rows × 47 columns</p>\n",
       "</div>"
      ],
      "text/plain": [
       "   Unnamed: 0  pkSeqID         stime flgs  flgs_number proto  proto_number  \\\n",
       "0     1650261  1650261  1.528103e+09    e            1   tcp             1   \n",
       "1     1650262  1650262  1.528103e+09    e            1   tcp             1   \n",
       "2     1650263  1650263  1.528103e+09    e            1   tcp             1   \n",
       "3     1650264  1650264  1.528103e+09    e            1   tcp             1   \n",
       "4     1650265  1650265  1.528103e+09    e            1   tcp             1   \n",
       "\n",
       "             saddr  sport          daddr  ... AR_P_Proto_P_DstIP  \\\n",
       "0  192.168.100.150  54110  192.168.100.3  ...            1.21662   \n",
       "1  192.168.100.150  54112  192.168.100.3  ...            1.21662   \n",
       "2  192.168.100.150  54114  192.168.100.3  ...            1.21662   \n",
       "3  192.168.100.150  54116  192.168.100.3  ...            1.21662   \n",
       "4  192.168.100.150  54118  192.168.100.3  ...            1.21662   \n",
       "\n",
       "   N_IN_Conn_P_DstIP  N_IN_Conn_P_SrcIP AR_P_Proto_P_Sport  \\\n",
       "0                 40                 38            1.56093   \n",
       "1                 40                 38            1.56107   \n",
       "2                 40                 38            1.24980   \n",
       "3                 40                 38            1.24986   \n",
       "4                 40                 38            1.24991   \n",
       "\n",
       "   AR_P_Proto_P_Dport  Pkts_P_State_P_Protocol_P_DestIP  \\\n",
       "0             1.21662                               328   \n",
       "1             1.21662                               328   \n",
       "2             1.21662                               328   \n",
       "3             1.21662                               328   \n",
       "4             1.21662                               328   \n",
       "\n",
       "   Pkts_P_State_P_Protocol_P_SrcIP  attack  category  subcategory  \n",
       "0                              308       1      DDoS         HTTP  \n",
       "1                              308       1      DDoS         HTTP  \n",
       "2                              308       1      DDoS         HTTP  \n",
       "3                              308       1      DDoS         HTTP  \n",
       "4                              308       1      DDoS         HTTP  \n",
       "\n",
       "[5 rows x 47 columns]"
      ]
     },
     "execution_count": 7,
     "metadata": {},
     "output_type": "execute_result"
    }
   ],
   "source": [
    "df.head()"
   ]
  },
  {
   "cell_type": "code",
   "execution_count": 8,
   "id": "f6c31b38",
   "metadata": {},
   "outputs": [
    {
     "data": {
      "text/plain": [
       "(1927101, 47)"
      ]
     },
     "execution_count": 8,
     "metadata": {},
     "output_type": "execute_result"
    }
   ],
   "source": [
    "df.shape"
   ]
  },
  {
   "cell_type": "code",
   "execution_count": 9,
   "id": "7624b59e",
   "metadata": {},
   "outputs": [
    {
     "data": {
      "text/plain": [
       "DDoS      1926624\n",
       "Normal        477\n",
       "Name: category, dtype: int64"
      ]
     },
     "execution_count": 9,
     "metadata": {},
     "output_type": "execute_result"
    }
   ],
   "source": [
    "df.category.value_counts()"
   ]
  },
  {
   "cell_type": "code",
   "execution_count": 10,
   "id": "b58d9e10",
   "metadata": {
    "scrolled": true
   },
   "outputs": [
    {
     "data": {
      "text/plain": [
       "TCP       977380\n",
       "UDP       948255\n",
       "HTTP         989\n",
       "Normal       477\n",
       "Name: subcategory, dtype: int64"
      ]
     },
     "execution_count": 10,
     "metadata": {},
     "output_type": "execute_result"
    }
   ],
   "source": [
    "df.subcategory.value_counts()"
   ]
  },
  {
   "cell_type": "code",
   "execution_count": 14,
   "id": "cce3ec84",
   "metadata": {},
   "outputs": [
    {
     "name": "stdout",
     "output_type": "stream",
     "text": [
      "        1 file(s) copied.\n"
     ]
    }
   ],
   "source": [
    "df.to_csv('DDoSdataClean.csv')\n",
    "!copy DDoSdataClean.csv \"C:\\shalini\\DDoS\""
   ]
  },
  {
   "cell_type": "code",
   "execution_count": null,
   "id": "2dafc6d5",
   "metadata": {},
   "outputs": [],
   "source": []
  }
 ],
 "metadata": {
  "kernelspec": {
   "display_name": "Python 3 (ipykernel)",
   "language": "python",
   "name": "python3"
  },
  "language_info": {
   "codemirror_mode": {
    "name": "ipython",
    "version": 3
   },
   "file_extension": ".py",
   "mimetype": "text/x-python",
   "name": "python",
   "nbconvert_exporter": "python",
   "pygments_lexer": "ipython3",
   "version": "3.9.12"
  }
 },
 "nbformat": 4,
 "nbformat_minor": 5
}
